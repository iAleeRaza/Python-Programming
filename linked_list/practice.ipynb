{
 "cells": [
  {
   "cell_type": "code",
   "execution_count": 1,
   "id": "8fbc9de8",
   "metadata": {},
   "outputs": [],
   "source": [
    "from linked_list import LinkedList  #type: ignore\n",
    "LL = LinkedList()\n"
   ]
  },
  {
   "cell_type": "code",
   "execution_count": 2,
   "id": "89a33169",
   "metadata": {},
   "outputs": [],
   "source": [
    "# appends an element in the tail of the linked list\n",
    "LL.append(1)\n",
    "LL.append(2)\n",
    "LL.append(3)\n",
    "LL.append(4)"
   ]
  },
  {
   "cell_type": "code",
   "execution_count": 3,
   "id": "f99e4b50",
   "metadata": {},
   "outputs": [
    {
     "data": {
      "text/plain": [
       "2"
      ]
     },
     "execution_count": 3,
     "metadata": {},
     "output_type": "execute_result"
    }
   ],
   "source": [
    "# returns the value of the node at the given index\n",
    "LL.search(3)"
   ]
  },
  {
   "cell_type": "code",
   "execution_count": 4,
   "id": "f2a13fa4",
   "metadata": {},
   "outputs": [
    {
     "name": "stdout",
     "output_type": "stream",
     "text": [
      "0 -> 1 -> 2 -> 3 -> 4\n"
     ]
    }
   ],
   "source": [
    "#inserts an Node in the head of the linked list\n",
    "LL.insert_head(0)\n",
    "# Linked list representation: 0 -> 1 -> 2 -> 3 -> 4\n",
    "print(LL)"
   ]
  },
  {
   "cell_type": "code",
   "execution_count": 5,
   "id": "3c2a9931",
   "metadata": {},
   "outputs": [
    {
     "name": "stdout",
     "output_type": "stream",
     "text": [
      "0 -> 1 -> 2 -> Alee -> 3 -> 4\n"
     ]
    }
   ],
   "source": [
    "# inserts a node after a given node value\n",
    "LL.insert_after(2, 'Alee')\n",
    "print(LL)"
   ]
  },
  {
   "cell_type": "code",
   "execution_count": 6,
   "id": "c57c1c07",
   "metadata": {},
   "outputs": [
    {
     "data": {
      "text/plain": [
       "6"
      ]
     },
     "execution_count": 6,
     "metadata": {},
     "output_type": "execute_result"
    }
   ],
   "source": [
    "#returns the number of Nodes in the linked list\n",
    "len(LL)"
   ]
  },
  {
   "cell_type": "code",
   "execution_count": 7,
   "id": "fc6f6869",
   "metadata": {},
   "outputs": [
    {
     "data": {
      "text/plain": [
       "'Alee'"
      ]
     },
     "execution_count": 7,
     "metadata": {},
     "output_type": "execute_result"
    }
   ],
   "source": [
    "# returns a Node at the specified index\n",
    "LL[3]"
   ]
  },
  {
   "cell_type": "code",
   "execution_count": 8,
   "id": "7b862c75",
   "metadata": {},
   "outputs": [
    {
     "name": "stdout",
     "output_type": "stream",
     "text": [
      "0 -> 1 -> 2 -> Alee -> 3 -> 4\n",
      "1 -> 2 -> Alee -> 3 -> 4\n"
     ]
    }
   ],
   "source": [
    "# deletes the head Node making the next Node the new head\n",
    "print(LL)\n",
    "LL.delete_head()\n",
    "print(LL)"
   ]
  },
  {
   "cell_type": "code",
   "execution_count": 9,
   "metadata": {},
   "outputs": [
    {
     "name": "stdout",
     "output_type": "stream",
     "text": [
      "1 -> 2 -> Alee -> 3\n"
     ]
    }
   ],
   "source": [
    "LL.pop()  # pops out the last Node\n",
    "print(LL)"
   ]
  },
  {
   "cell_type": "code",
   "execution_count": 10,
   "metadata": {},
   "outputs": [
    {
     "name": "stdout",
     "output_type": "stream",
     "text": [
      "1 -> Alee -> 3\n"
     ]
    }
   ],
   "source": [
    "LL.remove(2)  # removes the first occurrence of the specified value\n",
    "print(LL)"
   ]
  },
  {
   "cell_type": "code",
   "execution_count": 11,
   "id": "46966257",
   "metadata": {},
   "outputs": [
    {
     "name": "stdout",
     "output_type": "stream",
     "text": [
      "1 -> Alee\n"
     ]
    }
   ],
   "source": [
    "del LL[2]  # deletes the Node at index 2\n",
    "print(LL)"
   ]
  },
  {
   "cell_type": "code",
   "execution_count": 12,
   "metadata": {},
   "outputs": [
    {
     "name": "stdout",
     "output_type": "stream",
     "text": [
      "5 -> 6 -> 7 -> 8 -> 9 -> 10\n"
     ]
    }
   ],
   "source": [
    "LL1 = LinkedList()\n",
    "LL1.append(5)\n",
    "LL1.append(6)\n",
    "LL1.append(7)\n",
    "LL1.append(8)\n",
    "LL1.append(9)\n",
    "LL1.append(10)\n",
    "print(LL1)"
   ]
  },
  {
   "cell_type": "code",
   "execution_count": 13,
   "id": "75173a04",
   "metadata": {},
   "outputs": [
    {
     "name": "stdout",
     "output_type": "stream",
     "text": [
      "Empty Linked List\n"
     ]
    }
   ],
   "source": [
    "LL1.clear()  # clears the linked list\n",
    "print(LL1)# should print an empty linked list"
   ]
  }
 ],
 "metadata": {
  "kernelspec": {
   "display_name": "base",
   "language": "python",
   "name": "python3"
  },
  "language_info": {
   "codemirror_mode": {
    "name": "ipython",
    "version": 3
   },
   "file_extension": ".py",
   "mimetype": "text/x-python",
   "name": "python",
   "nbconvert_exporter": "python",
   "pygments_lexer": "ipython3",
   "version": "3.12.4"
  }
 },
 "nbformat": 4,
 "nbformat_minor": 5
}
