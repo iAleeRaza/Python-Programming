{
 "cells": [
  {
   "cell_type": "code",
   "execution_count": 27,
   "id": "c889b291",
   "metadata": {},
   "outputs": [],
   "source": [
    "# Stack implementation using the concept of arrays\n",
    "class Stack:\n",
    "    def __init__(self, size):\n",
    "        self.size = size\n",
    "        self.__stack = [None] * self.size\n",
    "        self.top = -1\n",
    "\n",
    "    def traverse(self):\n",
    "        if self.top == -1:\n",
    "            return []\n",
    "        else:\n",
    "            for i in range(self.top + 1):\n",
    "                print(self.__stack[i], end=' ')\n",
    "    \n",
    "    def push(self, value):\n",
    "        if self.top == self.size - 1:\n",
    "            raise IndexError(\"Stack overflow\")\n",
    "        self.top += 1\n",
    "        self.__stack[self.top] = value\n",
    "    \n",
    "    def pop(self):\n",
    "        if self.top == -1:\n",
    "            raise IndexError(\"Pop from empty stack\")\n",
    "        else:\n",
    "            value = self.__stack[self.top]\n",
    "            self.top -= 1\n",
    "\n",
    "            return value\n"
   ]
  },
  {
   "cell_type": "code",
   "execution_count": 28,
   "id": "078bef5c",
   "metadata": {},
   "outputs": [],
   "source": [
    "s = Stack(5)"
   ]
  },
  {
   "cell_type": "code",
   "execution_count": 29,
   "id": "16ea9b4b",
   "metadata": {},
   "outputs": [
    {
     "data": {
      "text/plain": [
       "[]"
      ]
     },
     "execution_count": 29,
     "metadata": {},
     "output_type": "execute_result"
    }
   ],
   "source": [
    "s.traverse()"
   ]
  },
  {
   "cell_type": "code",
   "execution_count": 30,
   "id": "0520025e",
   "metadata": {},
   "outputs": [
    {
     "name": "stdout",
     "output_type": "stream",
     "text": [
      "2 3 4 5 "
     ]
    }
   ],
   "source": [
    "s.push(2)\n",
    "s.push(3)\n",
    "s.push(4)\n",
    "s.push(5)\n",
    "s.traverse()"
   ]
  },
  {
   "cell_type": "code",
   "execution_count": 31,
   "id": "0c668d0f",
   "metadata": {},
   "outputs": [
    {
     "data": {
      "text/plain": [
       "5"
      ]
     },
     "execution_count": 31,
     "metadata": {},
     "output_type": "execute_result"
    }
   ],
   "source": [
    "s.pop()"
   ]
  },
  {
   "cell_type": "code",
   "execution_count": 32,
   "id": "d0e67844",
   "metadata": {},
   "outputs": [
    {
     "name": "stdout",
     "output_type": "stream",
     "text": [
      "2 3 4 "
     ]
    }
   ],
   "source": [
    "s.traverse()"
   ]
  },
  {
   "cell_type": "code",
   "execution_count": null,
   "id": "37284c24",
   "metadata": {},
   "outputs": [],
   "source": []
  }
 ],
 "metadata": {
  "kernelspec": {
   "display_name": "base",
   "language": "python",
   "name": "python3"
  },
  "language_info": {
   "codemirror_mode": {
    "name": "ipython",
    "version": 3
   },
   "file_extension": ".py",
   "mimetype": "text/x-python",
   "name": "python",
   "nbconvert_exporter": "python",
   "pygments_lexer": "ipython3",
   "version": "3.12.4"
  }
 },
 "nbformat": 4,
 "nbformat_minor": 5
}
