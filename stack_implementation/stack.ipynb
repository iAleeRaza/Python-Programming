{
 "cells": [
  {
   "cell_type": "code",
   "execution_count": 26,
   "id": "e676d9fc",
   "metadata": {},
   "outputs": [],
   "source": [
    "class Node:\n",
    "    def __init__(self, data):\n",
    "        self.data = data\n",
    "        self.next: Node | None = None"
   ]
  },
  {
   "cell_type": "code",
   "execution_count": 52,
   "id": "6c5fe827",
   "metadata": {},
   "outputs": [],
   "source": [
    "class Stack:\n",
    "    \n",
    "    def __init__(self):\n",
    "        self.top: Node | None = None\n",
    "        self.n = 0\n",
    "    \n",
    "    \n",
    "    def is_empty(self):\n",
    "        \"\"\"Check if the stack is empty.\"\"\"\n",
    "        return self.top is None\n",
    "    \n",
    "    def size(self):\n",
    "        \"\"\"Return the number of elements in the stack.\"\"\"\n",
    "        return self.n\n",
    "    \n",
    "    # ftn to add an element to the top of the stack\n",
    "    def push(self, data):\n",
    "\n",
    "        new_node = Node(data)\n",
    "        new_node.next = self.top\n",
    "        self.top = new_node\n",
    "        self.n += 1\n",
    "    \n",
    "    # ftn to return the top element of the stack without removing it\n",
    "    def traverse(self):\n",
    "        \"\"\"Traverse the stack and print its elements.\"\"\"\n",
    "\n",
    "        if self.is_empty():\n",
    "            print(\"Stack is empty.\")\n",
    "            return\n",
    "\n",
    "        current = self.top\n",
    "\n",
    "        while current is not None:\n",
    "            print(current.data)\n",
    "            current = current.next\n",
    "\n",
    "    # ftn to return the top element of the stack without removing it\n",
    "    def peak(self):\n",
    "        \"\"\"Return the top element of the stack without removing it.\"\"\"\n",
    "        if self.is_empty():\n",
    "            raise Exception(\"Stack is empty, cannot peak.\")\n",
    "        \n",
    "        else:\n",
    "            return self.top.data #type: ignore\n",
    "        \n",
    "\n",
    "    def pop(self):\n",
    "        \"\"\"Remove and return the top element of the stack.\"\"\"\n",
    "        if self.is_empty():\n",
    "            raise Exception(\"Stack is empty, cannot pop.\")\n",
    "        else:\n",
    "            popped_data = self.top.data #type: ignore\n",
    "            self.top = self.top.next #type: ignore\n",
    "            self.n -= 1\n",
    "            return popped_data\n",
    "    \n"
   ]
  },
  {
   "cell_type": "code",
   "execution_count": 53,
   "id": "c83100f4",
   "metadata": {},
   "outputs": [],
   "source": [
    "s = Stack()"
   ]
  },
  {
   "cell_type": "code",
   "execution_count": 54,
   "metadata": {},
   "outputs": [
    {
     "data": {
      "text/plain": [
       "True"
      ]
     },
     "execution_count": 54,
     "metadata": {},
     "output_type": "execute_result"
    }
   ],
   "source": [
    "s.is_empty()  # True"
   ]
  },
  {
   "cell_type": "code",
   "execution_count": 55,
   "id": "2206d240",
   "metadata": {},
   "outputs": [
    {
     "data": {
      "text/plain": [
       "0"
      ]
     },
     "execution_count": 55,
     "metadata": {},
     "output_type": "execute_result"
    }
   ],
   "source": [
    "s.size()"
   ]
  },
  {
   "cell_type": "code",
   "execution_count": 56,
   "metadata": {},
   "outputs": [],
   "source": [
    "s.push(10)\n",
    "s.push(20)\n",
    "s.push(30)"
   ]
  },
  {
   "cell_type": "code",
   "execution_count": 58,
   "id": "5201b1c0",
   "metadata": {},
   "outputs": [
    {
     "data": {
      "text/plain": [
       "3"
      ]
     },
     "execution_count": 58,
     "metadata": {},
     "output_type": "execute_result"
    }
   ],
   "source": [
    "s.size()"
   ]
  },
  {
   "cell_type": "code",
   "execution_count": 57,
   "id": "c2faa13c",
   "metadata": {},
   "outputs": [
    {
     "name": "stdout",
     "output_type": "stream",
     "text": [
      "30\n",
      "20\n",
      "10\n"
     ]
    }
   ],
   "source": [
    "s.traverse()  # 10"
   ]
  },
  {
   "cell_type": "code",
   "execution_count": 59,
   "metadata": {},
   "outputs": [
    {
     "data": {
      "text/plain": [
       "30"
      ]
     },
     "execution_count": 59,
     "metadata": {},
     "output_type": "execute_result"
    }
   ],
   "source": [
    "s.peak()  # 30"
   ]
  },
  {
   "cell_type": "code",
   "execution_count": 60,
   "metadata": {},
   "outputs": [
    {
     "data": {
      "text/plain": [
       "30"
      ]
     },
     "execution_count": 60,
     "metadata": {},
     "output_type": "execute_result"
    }
   ],
   "source": [
    "s.pop()  # 30"
   ]
  },
  {
   "cell_type": "code",
   "execution_count": 61,
   "id": "477a4372",
   "metadata": {},
   "outputs": [
    {
     "name": "stdout",
     "output_type": "stream",
     "text": [
      "20\n",
      "10\n"
     ]
    }
   ],
   "source": [
    "s.traverse()"
   ]
  },
  {
   "cell_type": "code",
   "execution_count": 29,
   "id": "f6316771",
   "metadata": {},
   "outputs": [],
   "source": [
    "# text editor that takes a string and a pattern of undo and redo(u and r)\n",
    "# 'u' means undo the last action and 'r' means redo the last undone action\n",
    "# this will be implemented using two stacks\n",
    "\n",
    "def text_editor(text, pattern):\n",
    "\n",
    "    u = Stack()\n",
    "    r = Stack()\n",
    "\n",
    "    for i in text:\n",
    "        u.push(i)\n",
    "    \n",
    "    for i in pattern:\n",
    "        if i == 'u':\n",
    "            data = u.pop()\n",
    "            r.push(data)\n",
    "        else:\n",
    "            data = r.pop()\n",
    "            u.push(data)\n",
    "    result = ''\n",
    "    while not u.is_empty():\n",
    "        result = u.pop() + result\n",
    "    \n",
    "    return result"
   ]
  },
  {
   "cell_type": "code",
   "execution_count": 30,
   "id": "65715620",
   "metadata": {},
   "outputs": [
    {
     "data": {
      "text/plain": [
       "'Karach'"
      ]
     },
     "execution_count": 30,
     "metadata": {},
     "output_type": "execute_result"
    }
   ],
   "source": [
    "text_editor('Karachi', 'uururru')"
   ]
  },
  {
   "cell_type": "code",
   "execution_count": 31,
   "id": "9072a8e2",
   "metadata": {},
   "outputs": [
    {
     "data": {
      "text/plain": [
       "'hello'"
      ]
     },
     "execution_count": 31,
     "metadata": {},
     "output_type": "execute_result"
    }
   ],
   "source": [
    "text_editor(\"hello world\", \"uuuuuu\") # 'hello'"
   ]
  },
  {
   "cell_type": "code",
   "execution_count": 72,
   "id": "3d299d42",
   "metadata": {},
   "outputs": [],
   "source": [
    "L = [\n",
    "    [0, 1, 1, 0],\n",
    "    [1, 0, 1, 0],\n",
    "    [0, 0, 0, 0],\n",
    "    [0, 0, 1, 0]\n",
    "]"
   ]
  },
  {
   "cell_type": "code",
   "execution_count": 79,
   "id": "b186f415",
   "metadata": {},
   "outputs": [],
   "source": [
    "def find_celeb(L):\n",
    "    st = Stack()\n",
    "    \n",
    "    # push all the indices of the matrix into the stack\n",
    "    for i in range(len(L)):\n",
    "        st.push(i)\n",
    "    \n",
    "    while st.size() >= 2:\n",
    "        i = st.pop()\n",
    "        j = st.pop()\n",
    "        if L[i][j] == 0:\n",
    "            st.push(i)\n",
    "        else:\n",
    "            st.push(j)\n",
    "    \n",
    "    celeb = st.pop()\n",
    "\n",
    "    for i in range(len(L)):\n",
    "        if i != celeb:\n",
    "            if L[celeb][i] == 1 or L[i][celeb] == 0:\n",
    "                print(\"No Celebrity\")\n",
    "                return\n",
    "            else:\n",
    "                print(\"Celebrity is\", celeb)"
   ]
  },
  {
   "cell_type": "code",
   "execution_count": 80,
   "id": "25719ef9",
   "metadata": {},
   "outputs": [
    {
     "name": "stdout",
     "output_type": "stream",
     "text": [
      "Celebrity is 2\n",
      "Celebrity is 2\n",
      "Celebrity is 2\n"
     ]
    }
   ],
   "source": [
    "find_celeb(L)  # \"The Celebrity is 2\""
   ]
  },
  {
   "cell_type": "code",
   "execution_count": null,
   "id": "1ec1f01f",
   "metadata": {},
   "outputs": [],
   "source": []
  }
 ],
 "metadata": {
  "kernelspec": {
   "display_name": "base",
   "language": "python",
   "name": "python3"
  },
  "language_info": {
   "codemirror_mode": {
    "name": "ipython",
    "version": 3
   },
   "file_extension": ".py",
   "mimetype": "text/x-python",
   "name": "python",
   "nbconvert_exporter": "python",
   "pygments_lexer": "ipython3",
   "version": "3.12.4"
  }
 },
 "nbformat": 4,
 "nbformat_minor": 5
}
