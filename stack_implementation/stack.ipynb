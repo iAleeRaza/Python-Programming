{
 "cells": [
  {
   "cell_type": "code",
   "execution_count": 26,
   "id": "e676d9fc",
   "metadata": {},
   "outputs": [],
   "source": [
    "class Node:\n",
    "    def __init__(self, data):\n",
    "        self.data = data\n",
    "        self.next: Node | None = None"
   ]
  },
  {
   "cell_type": "code",
   "execution_count": 6,
   "id": "6c5fe827",
   "metadata": {},
   "outputs": [],
   "source": [
    "class Stack:\n",
    "    \n",
    "    def __init__(self):\n",
    "        self.top: Node | None = None\n",
    "    \n",
    "    \n",
    "    def is_empty(self):\n",
    "        \"\"\"Check if the stack is empty.\"\"\"\n",
    "        return self.top is None\n",
    "    \n",
    "    # ftn to add an element to the top of the stack\n",
    "    def push(self, data):\n",
    "\n",
    "        new_node = Node(data)\n",
    "        new_node.next = self.top\n",
    "        self.top = new_node\n",
    "    \n",
    "    # ftn to return the top element of the stack without removing it\n",
    "    def traverse(self):\n",
    "        \"\"\"Traverse the stack and print its elements.\"\"\"\n",
    "\n",
    "        if self.is_empty():\n",
    "            print(\"Stack is empty.\")\n",
    "            return\n",
    "\n",
    "        current = self.top\n",
    "\n",
    "        while current is not None:\n",
    "            print(current.data)\n",
    "            current = current.next\n",
    "\n",
    "    # ftn to return the top element of the stack without removing it\n",
    "    def peak(self):\n",
    "        \"\"\"Return the top element of the stack without removing it.\"\"\"\n",
    "        if self.is_empty():\n",
    "            raise Exception(\"Stack is empty, cannot peak.\")\n",
    "        \n",
    "        else:\n",
    "            return self.top.data #type: ignore\n",
    "        \n",
    "\n",
    "    def pop(self):\n",
    "        \"\"\"Remove and return the top element of the stack.\"\"\"\n",
    "        if self.is_empty():\n",
    "            raise Exception(\"Stack is empty, cannot pop.\")\n",
    "        else:\n",
    "            popped_data = self.top.data #type: ignore\n",
    "            self.top = self.top.next #type: ignore\n",
    "            return popped_data\n",
    "    \n"
   ]
  },
  {
   "cell_type": "code",
   "execution_count": 7,
   "id": "c83100f4",
   "metadata": {},
   "outputs": [],
   "source": [
    "s = Stack()"
   ]
  },
  {
   "cell_type": "code",
   "execution_count": 8,
   "metadata": {},
   "outputs": [
    {
     "data": {
      "text/plain": [
       "True"
      ]
     },
     "execution_count": 8,
     "metadata": {},
     "output_type": "execute_result"
    }
   ],
   "source": [
    "s.is_empty()  # True"
   ]
  },
  {
   "cell_type": "code",
   "execution_count": 9,
   "metadata": {},
   "outputs": [],
   "source": [
    "s.push(10)\n",
    "s.push(20)\n",
    "s.push(30)"
   ]
  },
  {
   "cell_type": "code",
   "execution_count": 10,
   "id": "c2faa13c",
   "metadata": {},
   "outputs": [
    {
     "name": "stdout",
     "output_type": "stream",
     "text": [
      "30\n",
      "20\n",
      "10\n"
     ]
    }
   ],
   "source": [
    "s.traverse()  # 10"
   ]
  },
  {
   "cell_type": "code",
   "execution_count": 11,
   "metadata": {},
   "outputs": [
    {
     "data": {
      "text/plain": [
       "30"
      ]
     },
     "execution_count": 11,
     "metadata": {},
     "output_type": "execute_result"
    }
   ],
   "source": [
    "s.peak()  # 30"
   ]
  },
  {
   "cell_type": "code",
   "execution_count": 12,
   "metadata": {},
   "outputs": [
    {
     "data": {
      "text/plain": [
       "30"
      ]
     },
     "execution_count": 12,
     "metadata": {},
     "output_type": "execute_result"
    }
   ],
   "source": [
    "s.pop()  # 30"
   ]
  },
  {
   "cell_type": "code",
   "execution_count": 13,
   "id": "477a4372",
   "metadata": {},
   "outputs": [
    {
     "name": "stdout",
     "output_type": "stream",
     "text": [
      "20\n",
      "10\n"
     ]
    }
   ],
   "source": [
    "s.traverse()"
   ]
  },
  {
   "cell_type": "code",
   "execution_count": null,
   "id": "f6316771",
   "metadata": {},
   "outputs": [],
   "source": []
  }
 ],
 "metadata": {
  "kernelspec": {
   "display_name": "base",
   "language": "python",
   "name": "python3"
  },
  "language_info": {
   "codemirror_mode": {
    "name": "ipython",
    "version": 3
   },
   "file_extension": ".py",
   "mimetype": "text/x-python",
   "name": "python",
   "nbconvert_exporter": "python",
   "pygments_lexer": "ipython3",
   "version": "3.12.4"
  }
 },
 "nbformat": 4,
 "nbformat_minor": 5
}
