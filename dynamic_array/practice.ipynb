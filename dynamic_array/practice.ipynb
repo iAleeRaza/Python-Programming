{
 "cells": [
  {
   "cell_type": "markdown",
   "id": "2cefb11b",
   "metadata": {},
   "source": [
    "# Example usage to check out all the functionalities"
   ]
  },
  {
   "cell_type": "code",
   "execution_count": 1,
   "id": "a0f6208b",
   "metadata": {},
   "outputs": [],
   "source": [
    "from dynamic_array import MyList"
   ]
  },
  {
   "cell_type": "code",
   "execution_count": 2,
   "metadata": {},
   "outputs": [],
   "source": [
    "L = MyList()"
   ]
  },
  {
   "cell_type": "code",
   "execution_count": null,
   "metadata": {},
   "outputs": [
    {
     "name": "stdout",
     "output_type": "stream",
     "text": [
      "[Alee, 22, Raza, 21]\n"
     ]
    }
   ],
   "source": [
    "# append an item in last\n",
    "L.append('Alee')\n",
    "L.append(22)\n",
    "L.append('Raza')\n",
    "L.append(21)\n",
    "print(L)"
   ]
  },
  {
   "cell_type": "code",
   "execution_count": null,
   "metadata": {},
   "outputs": [
    {
     "name": "stdout",
     "output_type": "stream",
     "text": [
      "[Alee, 22, Mirani, Raza, 21]\n"
     ]
    }
   ],
   "source": [
    "# insert at a certain index\n",
    "L.insert(2, 'Mirani')\n",
    "print(L)"
   ]
  },
  {
   "cell_type": "code",
   "execution_count": 6,
   "id": "226e7285",
   "metadata": {},
   "outputs": [
    {
     "data": {
      "text/plain": [
       "5"
      ]
     },
     "execution_count": 6,
     "metadata": {},
     "output_type": "execute_result"
    }
   ],
   "source": [
    "len(L)"
   ]
  },
  {
   "cell_type": "code",
   "execution_count": 9,
   "id": "53478f45",
   "metadata": {},
   "outputs": [
    {
     "name": "stdout",
     "output_type": "stream",
     "text": [
      "Mirani\n"
     ]
    }
   ],
   "source": [
    "print(L[2])"
   ]
  },
  {
   "cell_type": "code",
   "execution_count": null,
   "id": "b1a62295",
   "metadata": {},
   "outputs": [
    {
     "data": {
      "text/plain": [
       "0"
      ]
     },
     "execution_count": 10,
     "metadata": {},
     "output_type": "execute_result"
    }
   ],
   "source": [
    "# Find by value\n",
    "L.find('Alee')"
   ]
  },
  {
   "cell_type": "code",
   "execution_count": null,
   "id": "0901fc4d",
   "metadata": {},
   "outputs": [
    {
     "name": "stdout",
     "output_type": "stream",
     "text": [
      "[Alee, 22, Raza, 21]\n"
     ]
    }
   ],
   "source": [
    "# delete by index\n",
    "del L[2]\n",
    "print(L)"
   ]
  },
  {
   "cell_type": "code",
   "execution_count": null,
   "id": "2425f10d",
   "metadata": {},
   "outputs": [
    {
     "data": {
      "text/plain": [
       "21"
      ]
     },
     "execution_count": 13,
     "metadata": {},
     "output_type": "execute_result"
    }
   ],
   "source": [
    "# pop out the last item\n",
    "L.pop()"
   ]
  },
  {
   "cell_type": "code",
   "execution_count": 14,
   "id": "d866a313",
   "metadata": {},
   "outputs": [],
   "source": [
    "# remove item by value\n",
    "L.remove('Raza')"
   ]
  },
  {
   "cell_type": "code",
   "execution_count": 15,
   "id": "febae9b7",
   "metadata": {},
   "outputs": [
    {
     "name": "stdout",
     "output_type": "stream",
     "text": [
      "[Alee, 22]\n"
     ]
    }
   ],
   "source": [
    "print(L)"
   ]
  },
  {
   "cell_type": "code",
   "execution_count": 16,
   "id": "e08e577b",
   "metadata": {},
   "outputs": [],
   "source": [
    "a = MyList()\n",
    "b = MyList()"
   ]
  },
  {
   "cell_type": "code",
   "execution_count": 17,
   "id": "7b05c815",
   "metadata": {},
   "outputs": [
    {
     "name": "stdout",
     "output_type": "stream",
     "text": [
      "[1, 2, 3, 4, 5]\n"
     ]
    }
   ],
   "source": [
    "a.append(1)\n",
    "a.append(2)\n",
    "a.append(3)\n",
    "a.append(4)\n",
    "a.append(5)\n",
    "print(a)"
   ]
  },
  {
   "cell_type": "code",
   "execution_count": 18,
   "id": "13f5eb0d",
   "metadata": {},
   "outputs": [
    {
     "name": "stdout",
     "output_type": "stream",
     "text": [
      "[6, 7, 8, 9, 10]\n"
     ]
    }
   ],
   "source": [
    "b.append(6)\n",
    "b.append(7)\n",
    "b.append(8)\n",
    "b.append(9)\n",
    "b.append(10)\n",
    "print(b)"
   ]
  },
  {
   "cell_type": "code",
   "execution_count": 19,
   "id": "dda65877",
   "metadata": {},
   "outputs": [],
   "source": [
    "# Extend the first list with the second\n",
    "a.extend(b)"
   ]
  },
  {
   "cell_type": "code",
   "execution_count": 20,
   "id": "0efb9fa2",
   "metadata": {},
   "outputs": [
    {
     "name": "stdout",
     "output_type": "stream",
     "text": [
      "[1, 2, 3, 4, 5, 6, 7, 8, 9, 10]\n"
     ]
    }
   ],
   "source": [
    "print(a)"
   ]
  },
  {
   "cell_type": "code",
   "execution_count": 22,
   "id": "d0a31cf0",
   "metadata": {},
   "outputs": [
    {
     "name": "stdout",
     "output_type": "stream",
     "text": [
      "6\n",
      "10\n"
     ]
    }
   ],
   "source": [
    "# find the minimum and maximum\n",
    "print(b.min())\n",
    "print(b.max())"
   ]
  },
  {
   "cell_type": "code",
   "execution_count": 24,
   "id": "734652b0",
   "metadata": {},
   "outputs": [
    {
     "name": "stdout",
     "output_type": "stream",
     "text": [
      "40\n",
      "55\n"
     ]
    }
   ],
   "source": [
    "# calcute the sum of all the elements in the list\n",
    "print(b.sum())\n",
    "print(a.sum())\n"
   ]
  },
  {
   "cell_type": "code",
   "execution_count": 25,
   "id": "bcfb9e93",
   "metadata": {},
   "outputs": [
    {
     "name": "stdout",
     "output_type": "stream",
     "text": [
      "[20, 50, 21, 43, 67]\n"
     ]
    }
   ],
   "source": [
    "x = MyList()\n",
    "x.append(20)\n",
    "x.append(50)\n",
    "x.append(21)\n",
    "x.append(43)\n",
    "x.append(67)\n",
    "print(x)"
   ]
  },
  {
   "cell_type": "code",
   "execution_count": 27,
   "id": "800c291d",
   "metadata": {},
   "outputs": [
    {
     "name": "stdout",
     "output_type": "stream",
     "text": [
      "[20, 21, 43, 50, 67]\n"
     ]
    }
   ],
   "source": [
    "# sort in ascending order\n",
    "x.sort()\n",
    "print(x)"
   ]
  },
  {
   "cell_type": "code",
   "execution_count": 28,
   "id": "cd15c84b",
   "metadata": {},
   "outputs": [
    {
     "name": "stdout",
     "output_type": "stream",
     "text": [
      "[67, 50, 43, 21, 20]\n"
     ]
    }
   ],
   "source": [
    "# sort in descending order\n",
    "x.sort(reverse=True)\n",
    "print(x)"
   ]
  },
  {
   "cell_type": "code",
   "execution_count": 29,
   "id": "549fc259",
   "metadata": {},
   "outputs": [],
   "source": [
    "# clear the list by deleting all items\n",
    "x.clear()\n"
   ]
  },
  {
   "cell_type": "code",
   "execution_count": 30,
   "id": "6f8e3625",
   "metadata": {},
   "outputs": [
    {
     "name": "stdout",
     "output_type": "stream",
     "text": [
      "[]\n"
     ]
    }
   ],
   "source": [
    "print(x)"
   ]
  },
  {
   "cell_type": "code",
   "execution_count": null,
   "id": "03401faf",
   "metadata": {},
   "outputs": [],
   "source": []
  }
 ],
 "metadata": {
  "kernelspec": {
   "display_name": "base",
   "language": "python",
   "name": "python3"
  },
  "language_info": {
   "codemirror_mode": {
    "name": "ipython",
    "version": 3
   },
   "file_extension": ".py",
   "mimetype": "text/x-python",
   "name": "python",
   "nbconvert_exporter": "python",
   "pygments_lexer": "ipython3",
   "version": "3.12.4"
  }
 },
 "nbformat": 4,
 "nbformat_minor": 5
}
